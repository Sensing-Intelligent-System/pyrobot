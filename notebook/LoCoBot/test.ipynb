{
 "cells": [
  {
   "cell_type": "code",
   "execution_count": 1,
   "metadata": {},
   "outputs": [],
   "source": [
    "get_ipython().system_raw('roslaunch locobot_control main.launch use_arm:=true & ')"
   ]
  },
  {
   "cell_type": "code",
   "execution_count": 2,
   "metadata": {},
   "outputs": [
    {
     "name": "stdout",
     "output_type": "stream",
     "text": [
      "/home/locobot/low_cost_ws/src/pyrobot/tests\n"
     ]
    }
   ],
   "source": [
    "%cd /home/locobot/low_cost_ws/src/pyrobot/tests/"
   ]
  },
  {
   "cell_type": "code",
   "execution_count": 3,
   "metadata": {},
   "outputs": [
    {
     "name": "stdout",
     "output_type": "stream",
     "text": [
      "__pycache__  test_arm_controls.py\t\t  test_base_velocity_control.py\r\n",
      "conftest.py  test_arm_utils.py\t\t\t  test_camera.py\r\n",
      "run_test.py  test_base_controllers.py\t\t  test_make_robots.py\r\n",
      "run_test.sh  test_base_position_control_inits.py  test_pyrobot_classes.py\r\n"
     ]
    }
   ],
   "source": [
    "!ls"
   ]
  },
  {
   "cell_type": "code",
   "execution_count": null,
   "metadata": {},
   "outputs": [
    {
     "name": "stdout",
     "output_type": "stream",
     "text": [
      "\u001b[1m============================= test session starts ==============================\u001b[0m\n",
      "platform linux2 -- Python 2.7.12, pytest-4.6.5, py-1.8.0, pluggy-0.13.0\n",
      "rootdir: /home/locobot/low_cost_ws/src/pyrobot\n",
      "plugins: metadata-1.8.0, cov-2.6.1, html-1.20.0\n",
      "collected 14 items                                                             \u001b[0m\n",
      "\n",
      "test_arm_controls.py \u001b[32m.\u001b[0m\u001b[32m.\u001b[0m\u001b[32m.\u001b[0m\u001b[32m.\u001b[0m\u001b[32m.\u001b[0m\u001b[32m.\u001b[0m\u001b[32m.\u001b[0m\u001b[32m.\u001b[0m\u001b[32m.\u001b[0m\u001b[32m.\u001b[0m\u001b[31mF\u001b[0m\u001b[32m.\u001b[0m\u001b[32m.\u001b[0m"
     ]
    }
   ],
   "source": [
    "!pytest test_arm_controls.py"
   ]
  }
 ],
 "metadata": {
  "kernelspec": {
   "display_name": "Python 2",
   "language": "python",
   "name": "python2"
  },
  "language_info": {
   "codemirror_mode": {
    "name": "ipython",
    "version": 2
   },
   "file_extension": ".py",
   "mimetype": "text/x-python",
   "name": "python",
   "nbconvert_exporter": "python",
   "pygments_lexer": "ipython2",
   "version": "2.7.12"
  }
 },
 "nbformat": 4,
 "nbformat_minor": 2
}
