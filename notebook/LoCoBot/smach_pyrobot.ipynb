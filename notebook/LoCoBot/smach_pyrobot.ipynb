{
 "cells": [
  {
   "cell_type": "markdown",
   "metadata": {
    "id": "38m2CqLbPCk2"
   },
   "source": [
    "## Learning SMACH\n"
   ]
  },
  {
   "cell_type": "code",
   "execution_count": null,
   "metadata": {
    "id": "f66OvlqozoMW"
   },
   "outputs": [],
   "source": [
    "get_ipython().system_raw('roslaunch locobot_control main.launch use_arm:=true use_base:=true & ')"
   ]
  },
  {
   "cell_type": "markdown",
   "metadata": {
    "id": "Q0Gc1hqt9mQh"
   },
   "source": [
    "### Creating a State Machine\n",
    "\n",
    "To create a Smach state machine, you first create a number of states, and then add those states to a State Machine container."
   ]
  },
  {
   "cell_type": "code",
   "execution_count": null,
   "metadata": {
    "id": "VTWG_ldfhnXl"
   },
   "outputs": [],
   "source": [
    "#!/usr/bin/env python\n",
    "\n",
    "import rospy\n",
    "import smach\n",
    "from pyrobot import Robot\n",
    "\n",
    "base_config_dict={'base_controller': 'ilqr'} \n",
    "robot = Robot('locobot', base_config=base_config_dict)"
   ]
  },
  {
   "cell_type": "markdown",
   "metadata": {
    "id": "8KYI7FKThdxp"
   },
   "source": [
    "### Creating a state"
   ]
  },
  {
   "cell_type": "code",
   "execution_count": null,
   "metadata": {
    "id": "4exaMM_thsHX"
   },
   "outputs": [],
   "source": [
    "# define state Base_move\n",
    "class Base_move(smach.State):\n",
    "    def __init__(self):\n",
    "        smach.State.__init__(self, outcomes=['forward','backward'])\n",
    "        self.counter = 0\n",
    "        forward_position = [1,0.0,0.0]\n",
    "        backward_position = [0.0,0.0,0.0]\n",
    "\n",
    "    def execute(self, userdata):\n",
    "        rospy.loginfo('Executing state Base_move')\n",
    "        if self.counter < 2:\n",
    "            self.counter += 1\n",
    "            robot.base.go_to_absolute(forward_position)\n",
    "            return 'forward'\n",
    "        else:\n",
    "            robot.base.go_to_absolute(backward_position)\n",
    "            return 'backward'"
   ]
  },
  {
   "cell_type": "code",
   "execution_count": null,
   "metadata": {
    "id": "3vme0nsUiDxK"
   },
   "outputs": [],
   "source": [
    "# define state Arm_move\n",
    "class Arm_move(smach.State):\n",
    "    def __init__(self):\n",
    "        smach.State.__init__(self, outcomes=['”home'])\n",
    "\n",
    "    def execute(self, userdata):\n",
    "        rospy.loginfo('Executing state Arm_move')\n",
    "        robot.arm.go_home()\n",
    "        return 'home'"
   ]
  },
  {
   "cell_type": "markdown",
   "metadata": {
    "id": "yVA9HzWyiNSc"
   },
   "source": [
    "### Adding states to a state machine"
   ]
  },
  {
   "cell_type": "code",
   "execution_count": null,
   "metadata": {
    "colab": {
     "base_uri": "https://localhost:8080/"
    },
    "id": "IzuHyz57iGmU",
    "outputId": "fad183c3-0252-4e9e-db56-9b23feca2127"
   },
   "outputs": [
    {
     "name": "stdout",
     "output_type": "stream",
     "text": [
      "[ DEBUG ] : Adding state (FOO, <__main__.Foo object at 0x7fb50d335050>, {'outcome1': 'BAR', 'outcome2': 'outcome4'})\n",
      "[ DEBUG ] : Adding state 'FOO' to the state machine.\n",
      "[ DEBUG ] : State 'FOO' is missing transitions: {}\n",
      "[ DEBUG ] : TRANSITIONS FOR FOO: {'outcome1': 'BAR', 'outcome2': 'outcome4'}\n",
      "[ DEBUG ] : Adding state (BAR, <__main__.Bar object at 0x7fb50d3351d0>, {'outcome2': 'FOO'})\n",
      "[ DEBUG ] : Adding state 'BAR' to the state machine.\n",
      "[ DEBUG ] : State 'BAR' is missing transitions: {}\n",
      "[ DEBUG ] : TRANSITIONS FOR BAR: {'outcome2': 'FOO'}\n",
      "[  INFO ] : State machine starting in initial state 'FOO' with userdata: \n",
      "\t[]\n",
      "[  INFO ] : State machine transitioning 'FOO':'outcome1'-->'BAR'\n",
      "[  INFO ] : State machine transitioning 'BAR':'outcome2'-->'FOO'\n",
      "[  INFO ] : State machine transitioning 'FOO':'outcome1'-->'BAR'\n",
      "[  INFO ] : State machine transitioning 'BAR':'outcome2'-->'FOO'\n",
      "[  INFO ] : State machine transitioning 'FOO':'outcome1'-->'BAR'\n",
      "[  INFO ] : State machine transitioning 'BAR':'outcome2'-->'FOO'\n",
      "[  INFO ] : State machine terminating 'FOO':'outcome2':'outcome4'\n"
     ]
    }
   ],
   "source": [
    "# main\n",
    "def main():\n",
    "    rospy.init_node('smach_example_state_machine')\n",
    "\n",
    "    # Create a SMACH state machine\n",
    "    sm = smach.StateMachine(outcomes=['End'])\n",
    "\n",
    "    # Open the container\n",
    "    with sm:\n",
    "        # Add states to the container\n",
    "        smach.StateMachine.add('Base_move', Base_move(), transitions={'forward':'Arm_move', 'backward':'End'})\n",
    "        smach.StateMachine.add('Arm_move', Arm_move(), transitions={'home':'Base_move'})\n",
    "\n",
    "    # Execute SMACH plan\n",
    "    outcome = sm.execute()\n",
    "\n",
    "if __name__ == '__main__':\n",
    "    main()"
   ]
  }
 ],
 "metadata": {
  "colab": {
   "collapsed_sections": [],
   "name": "smach.ipynb",
   "provenance": [],
   "toc_visible": true
  },
  "kernelspec": {
   "display_name": "Python 2",
   "language": "python",
   "name": "python2"
  },
  "language_info": {
   "codemirror_mode": {
    "name": "ipython",
    "version": 2
   },
   "file_extension": ".py",
   "mimetype": "text/x-python",
   "name": "python",
   "nbconvert_exporter": "python",
   "pygments_lexer": "ipython2",
   "version": "2.7.12"
  }
 },
 "nbformat": 4,
 "nbformat_minor": 1
}
