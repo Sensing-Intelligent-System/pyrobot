{
 "cells": [
  {
   "cell_type": "markdown",
   "metadata": {
    "id": "38m2CqLbPCk2"
   },
   "source": [
    "## Learning SMACH\n"
   ]
  },
  {
   "cell_type": "code",
   "execution_count": 16,
   "metadata": {
    "id": "f66OvlqozoMW"
   },
   "outputs": [],
   "source": [
    "get_ipython().system_raw('roslaunch locobot_control main.launch use_arm:=true use_base:=true & ')"
   ]
  },
  {
   "cell_type": "markdown",
   "metadata": {
    "id": "Q0Gc1hqt9mQh"
   },
   "source": [
    "### Creating a State Machine\n",
    "\n",
    "To create a Smach state machine, you first create a number of states, and then add those states to a State Machine container."
   ]
  },
  {
   "cell_type": "code",
   "execution_count": 17,
   "metadata": {
    "id": "VTWG_ldfhnXl"
   },
   "outputs": [],
   "source": [
    "#!/usr/bin/env python\n",
    "\n",
    "import rospy\n",
    "import smach\n",
    "import smach_ros\n",
    "import time\n",
    "from pyrobot import Robot\n",
    "\n",
    "base_config_dict={'base_controller': 'ilqr'} \n",
    "robot = Robot('locobot', base_config=base_config_dict)"
   ]
  },
  {
   "cell_type": "markdown",
   "metadata": {
    "id": "8KYI7FKThdxp"
   },
   "source": [
    "### Creating a state"
   ]
  },
  {
   "cell_type": "code",
   "execution_count": 18,
   "metadata": {
    "id": "4exaMM_thsHX"
   },
   "outputs": [],
   "source": [
    "# define state Base_move\n",
    "class Base_move(smach.State):\n",
    "    def __init__(self):\n",
    "        smach.State.__init__(self, outcomes=['forward','backward'])\n",
    "        self.counter = 0\n",
    "        forward_position = [1,0.0,0.0]\n",
    "        backward_position = [0.0,0.0,0.0]\n",
    "\n",
    "    def execute(self, userdata):\n",
    "        rospy.loginfo('Executing state Base_move')\n",
    "        if self.counter < 2:\n",
    "            self.counter += 1\n",
    "            \n",
    "            robot.base.go_to_absolute(forward_position)\n",
    "            time.sleep(1)\n",
    "            return 'forward'\n",
    "        else:\n",
    "            robot.base.go_to_absolute(backward_position)\n",
    "            time.sleep(1)\n",
    "            return 'backward'"
   ]
  },
  {
   "cell_type": "code",
   "execution_count": 19,
   "metadata": {
    "id": "3vme0nsUiDxK"
   },
   "outputs": [],
   "source": [
    "# define state Arm_move\n",
    "class Arm_move(smach.State):\n",
    "    def __init__(self):\n",
    "        smach.State.__init__(self, outcomes=['home'])\n",
    "\n",
    "    def execute(self, userdata):\n",
    "        rospy.loginfo('Executing state Arm_move')\n",
    "        robot.arm.go_home()\n",
    "        time.sleep(1)\n",
    "        return 'home'"
   ]
  },
  {
   "cell_type": "markdown",
   "metadata": {
    "id": "yVA9HzWyiNSc"
   },
   "source": [
    "### Adding states to a state machine"
   ]
  },
  {
   "cell_type": "code",
   "execution_count": 20,
   "metadata": {
    "colab": {
     "base_uri": "https://localhost:8080/"
    },
    "id": "IzuHyz57iGmU",
    "outputId": "fad183c3-0252-4e9e-db56-9b23feca2127"
   },
   "outputs": [
    {
     "ename": "ROSException",
     "evalue": "rospy.init_node() has already been called with different arguments: ('smach_example_state_machine', ['/usr/local/lib/python2.7/dist-packages/ipykernel_launcher.py', '-f', '/home/jacky/.local/share/jupyter/runtime/kernel-5af2d701-4dea-47c7-9be2-1590b2836798.json'], False, None, False, False)",
     "output_type": "error",
     "traceback": [
      "\u001b[0;31m---------------------------------------------------------------------------\u001b[0m",
      "\u001b[0;31mROSException\u001b[0m                              Traceback (most recent call last)",
      "\u001b[0;32m<ipython-input-20-09726219e517>\u001b[0m in \u001b[0;36m<module>\u001b[0;34m()\u001b[0m\n\u001b[1;32m     16\u001b[0m \u001b[0;34m\u001b[0m\u001b[0m\n\u001b[1;32m     17\u001b[0m \u001b[0;32mif\u001b[0m \u001b[0m__name__\u001b[0m \u001b[0;34m==\u001b[0m \u001b[0;34m'__main__'\u001b[0m\u001b[0;34m:\u001b[0m\u001b[0;34m\u001b[0m\u001b[0m\n\u001b[0;32m---> 18\u001b[0;31m     \u001b[0mmain\u001b[0m\u001b[0;34m(\u001b[0m\u001b[0;34m)\u001b[0m\u001b[0;34m\u001b[0m\u001b[0m\n\u001b[0m",
      "\u001b[0;32m<ipython-input-20-09726219e517>\u001b[0m in \u001b[0;36mmain\u001b[0;34m()\u001b[0m\n\u001b[1;32m      1\u001b[0m \u001b[0;31m# main\u001b[0m\u001b[0;34m\u001b[0m\u001b[0;34m\u001b[0m\u001b[0m\n\u001b[1;32m      2\u001b[0m \u001b[0;32mdef\u001b[0m \u001b[0mmain\u001b[0m\u001b[0;34m(\u001b[0m\u001b[0;34m)\u001b[0m\u001b[0;34m:\u001b[0m\u001b[0;34m\u001b[0m\u001b[0m\n\u001b[0;32m----> 3\u001b[0;31m     \u001b[0mrospy\u001b[0m\u001b[0;34m.\u001b[0m\u001b[0minit_node\u001b[0m\u001b[0;34m(\u001b[0m\u001b[0;34m'smach_pyrobot'\u001b[0m\u001b[0;34m)\u001b[0m\u001b[0;34m\u001b[0m\u001b[0m\n\u001b[0m\u001b[1;32m      4\u001b[0m \u001b[0;34m\u001b[0m\u001b[0m\n\u001b[1;32m      5\u001b[0m     \u001b[0;31m# Create a SMACH state machine\u001b[0m\u001b[0;34m\u001b[0m\u001b[0;34m\u001b[0m\u001b[0m\n",
      "\u001b[0;32m/opt/ros/kinetic/lib/python2.7/dist-packages/rospy/client.pyc\u001b[0m in \u001b[0;36minit_node\u001b[0;34m(name, argv, anonymous, log_level, disable_rostime, disable_rosout, disable_signals, xmlrpc_port, tcpros_port)\u001b[0m\n\u001b[1;32m    272\u001b[0m     \u001b[0;32mif\u001b[0m \u001b[0m_init_node_args\u001b[0m\u001b[0;34m:\u001b[0m\u001b[0;34m\u001b[0m\u001b[0m\n\u001b[1;32m    273\u001b[0m         \u001b[0;32mif\u001b[0m \u001b[0m_init_node_args\u001b[0m \u001b[0;34m!=\u001b[0m \u001b[0;34m(\u001b[0m\u001b[0mname\u001b[0m\u001b[0;34m,\u001b[0m \u001b[0margv\u001b[0m\u001b[0;34m,\u001b[0m \u001b[0manonymous\u001b[0m\u001b[0;34m,\u001b[0m \u001b[0mlog_level\u001b[0m\u001b[0;34m,\u001b[0m \u001b[0mdisable_rostime\u001b[0m\u001b[0;34m,\u001b[0m \u001b[0mdisable_signals\u001b[0m\u001b[0;34m)\u001b[0m\u001b[0;34m:\u001b[0m\u001b[0;34m\u001b[0m\u001b[0m\n\u001b[0;32m--> 274\u001b[0;31m             \u001b[0;32mraise\u001b[0m \u001b[0mrospy\u001b[0m\u001b[0;34m.\u001b[0m\u001b[0mexceptions\u001b[0m\u001b[0;34m.\u001b[0m\u001b[0mROSException\u001b[0m\u001b[0;34m(\u001b[0m\u001b[0;34m\"rospy.init_node() has already been called with different arguments: \"\u001b[0m\u001b[0;34m+\u001b[0m\u001b[0mstr\u001b[0m\u001b[0;34m(\u001b[0m\u001b[0m_init_node_args\u001b[0m\u001b[0;34m)\u001b[0m\u001b[0;34m)\u001b[0m\u001b[0;34m\u001b[0m\u001b[0m\n\u001b[0m\u001b[1;32m    275\u001b[0m         \u001b[0;32melse\u001b[0m\u001b[0;34m:\u001b[0m\u001b[0;34m\u001b[0m\u001b[0m\n\u001b[1;32m    276\u001b[0m             \u001b[0;32mreturn\u001b[0m \u001b[0;31m#already initialized\u001b[0m\u001b[0;34m\u001b[0m\u001b[0m\n",
      "\u001b[0;31mROSException\u001b[0m: rospy.init_node() has already been called with different arguments: ('smach_example_state_machine', ['/usr/local/lib/python2.7/dist-packages/ipykernel_launcher.py', '-f', '/home/jacky/.local/share/jupyter/runtime/kernel-5af2d701-4dea-47c7-9be2-1590b2836798.json'], False, None, False, False)"
     ]
    }
   ],
   "source": [
    "# main\n",
    "def main():\n",
    "    rospy.init_node('smach_pyrobot')\n",
    "\n",
    "    # Create a SMACH state machine\n",
    "    sm = smach.StateMachine(outcomes=['End'])\n",
    "\n",
    "    # Open the container\n",
    "    with sm:\n",
    "        # Add states to the container\n",
    "        smach.StateMachine.add('Base_move', Base_move(), transitions={'forward':'Arm_move', 'backward':'End'})\n",
    "        smach.StateMachine.add('Arm_move', Arm_move(), transitions={'home':'Base_move'})\n",
    "\n",
    "    # Create and start the introspection server\n",
    "    sis = smach_ros.IntrospectionServer('my_smach_introspection_server', sm, '/SM_ROOT')\n",
    "    sis.start()\n",
    "\n",
    "    # Execute SMACH plan\n",
    "    outcome = sm.execute()\n",
    "    \n",
    "    # Wait for ctrl-c to stop the application\n",
    "    rospy.spin()\n",
    "    sis.stop()\n",
    "\n",
    "if __name__ == '__main__':\n",
    "    main()"
   ]
  }
 ],
 "metadata": {
  "colab": {
   "collapsed_sections": [],
   "name": "smach.ipynb",
   "provenance": [],
   "toc_visible": true
  },
  "kernelspec": {
   "display_name": "Python 2",
   "language": "python",
   "name": "python2"
  },
  "language_info": {
   "codemirror_mode": {
    "name": "ipython",
    "version": 2
   },
   "file_extension": ".py",
   "mimetype": "text/x-python",
   "name": "python",
   "nbconvert_exporter": "python",
   "pygments_lexer": "ipython2",
   "version": "2.7.12"
  }
 },
 "nbformat": 4,
 "nbformat_minor": 1
}
